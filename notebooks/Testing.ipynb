{
 "cells": [
  {
   "cell_type": "code",
   "execution_count": 1,
   "id": "05a69ee4",
   "metadata": {},
   "outputs": [],
   "source": [
    "import yaml"
   ]
  },
  {
   "cell_type": "code",
   "execution_count": 2,
   "id": "351176f9",
   "metadata": {
    "collapsed": true
   },
   "outputs": [
    {
     "data": {
      "text/plain": [
       "{'base': {'data_source_path': 'artifacts/data.csv',\n",
       "  'data_dest_path': 'artifacts1/data.csv',\n",
       "  'train_path': 'artifacts1/train.csv',\n",
       "  'test_path': 'artifacts1/test.csv',\n",
       "  'test_size': 0.25},\n",
       " 'params': {'Decision_Tree': {'criterion': ['squared_error',\n",
       "    'friedman_mse',\n",
       "    'absolute_error',\n",
       "    'poisson'],\n",
       "   'splitter': ['best', 'random'],\n",
       "   'max_features': ['sqrt', 'log2']},\n",
       "  'Random_Forest': {'criterion': ['squared_error',\n",
       "    'friedman_mse',\n",
       "    'absolute_error',\n",
       "    'poisson'],\n",
       "   'max_features': ['sqrt', 'log2', 'None'],\n",
       "   'n_estimators': [8, 16, 32, 64, 128, 256]},\n",
       "  'GradientBoost': {'loss': ['squared_error',\n",
       "    'huber',\n",
       "    'absolute_error',\n",
       "    'quantile'],\n",
       "   'learning_rate': [0.1, 0.01, 0.05, 0.001],\n",
       "   'subsample': [0.6, 0.7, 0.75, 0.8, 0.85, 0.9],\n",
       "   'criterion': ['squared_error', 'friedman_mse'],\n",
       "   'max_features': ['auto', 'sqrt', 'log2'],\n",
       "   'n_estimators': [8, 16, 32, 64, 128, 256]},\n",
       "  'XGBoost': {'learning_rate': [0.1, 0.01, 0.05, 0.001],\n",
       "   'n_estimators': [8, 16, 32, 64, 128, 256]},\n",
       "  'CatBoost': {'depth': [6, 8, 10],\n",
       "   'learning_rate': [0.01, 0.05, 0.1],\n",
       "   'iterations': [30, 50, 100]},\n",
       "  'AdaBoost': {'learning_rate': [0.1, 0.01, 0.5, 0.001],\n",
       "   'loss': ['linear', 'square', 'exponential'],\n",
       "   'n_estimators': [8, 16, 32, 64, 128, 256]}}}"
      ]
     },
     "execution_count": 2,
     "metadata": {},
     "output_type": "execute_result"
    }
   ],
   "source": [
    "with open(\"../params.yaml\") as yaml_file:\n",
    "    config = yaml.safe_load(yaml_file)\n",
    "config"
   ]
  },
  {
   "cell_type": "code",
   "execution_count": 3,
   "id": "a36b9537",
   "metadata": {},
   "outputs": [
    {
     "data": {
      "text/plain": [
       "{'criterion': ['squared_error', 'friedman_mse', 'absolute_error', 'poisson'],\n",
       " 'splitter': ['best', 'random'],\n",
       " 'max_features': ['sqrt', 'log2']}"
      ]
     },
     "execution_count": 3,
     "metadata": {},
     "output_type": "execute_result"
    }
   ],
   "source": [
    "config[\"params\"][\"Decision_Tree\"]"
   ]
  },
  {
   "cell_type": "code",
   "execution_count": 4,
   "id": "233e6289",
   "metadata": {},
   "outputs": [],
   "source": [
    "model_name = \"GradientBoost\""
   ]
  },
  {
   "cell_type": "code",
   "execution_count": 5,
   "id": "1f2ef129",
   "metadata": {},
   "outputs": [
    {
     "name": "stdout",
     "output_type": "stream",
     "text": [
      "{'loss': ['squared_error', 'huber', 'absolute_error', 'quantile'], 'learning_rate': [0.1, 0.01, 0.05, 0.001], 'subsample': [0.6, 0.7, 0.75, 0.8, 0.85, 0.9], 'criterion': ['squared_error', 'friedman_mse'], 'max_features': ['auto', 'sqrt', 'log2'], 'n_estimators': [8, 16, 32, 64, 128, 256]}\n"
     ]
    }
   ],
   "source": [
    "for i in config[\"params\"]:\n",
    "    if i == model_name:\n",
    "        print (config[\"params\"][i])"
   ]
  },
  {
   "cell_type": "code",
   "execution_count": 4,
   "id": "af1ae29d",
   "metadata": {},
   "outputs": [],
   "source": [
    "import pandas as pd\n",
    "columns = pd.read_csv(\"../artifacts/data.csv\").drop(columns=\"math_score\").columns.tolist()"
   ]
  },
  {
   "cell_type": "code",
   "execution_count": 2,
   "id": "8fe76ae9",
   "metadata": {},
   "outputs": [
    {
     "data": {
      "text/plain": [
       "['gender',\n",
       " 'race_ethnicity',\n",
       " 'parental_level_of_education',\n",
       " 'lunch',\n",
       " 'test_preparation_course',\n",
       " 'reading_score',\n",
       " 'writing_score']"
      ]
     },
     "execution_count": 2,
     "metadata": {},
     "output_type": "execute_result"
    }
   ],
   "source": [
    "columns"
   ]
  },
  {
   "cell_type": "code",
   "execution_count": 6,
   "id": "3eb4974c",
   "metadata": {},
   "outputs": [],
   "source": [
    "data = {'gender': 'male', \n",
    "        'race_ethnicity': 'group A', \n",
    "        'parental_level_of_education': 'some high school', \n",
    "        'lunch': 'free/reduced', \n",
    "        'test_preparation_course': 'none', \n",
    "        'reading_score': '85', \n",
    "        'writing_score': '100'}"
   ]
  },
  {
   "cell_type": "code",
   "execution_count": 7,
   "id": "076b0a71",
   "metadata": {},
   "outputs": [
    {
     "data": {
      "text/plain": [
       "{'gender': 'male',\n",
       " 'race_ethnicity': 'group A',\n",
       " 'parental_level_of_education': 'some high school',\n",
       " 'lunch': 'free/reduced',\n",
       " 'test_preparation_course': 'none',\n",
       " 'reading_score': '85',\n",
       " 'writing_score': '100'}"
      ]
     },
     "execution_count": 7,
     "metadata": {},
     "output_type": "execute_result"
    }
   ],
   "source": [
    "data"
   ]
  },
  {
   "cell_type": "code",
   "execution_count": 8,
   "id": "acca097e",
   "metadata": {},
   "outputs": [
    {
     "data": {
      "text/html": [
       "<div>\n",
       "<style scoped>\n",
       "    .dataframe tbody tr th:only-of-type {\n",
       "        vertical-align: middle;\n",
       "    }\n",
       "\n",
       "    .dataframe tbody tr th {\n",
       "        vertical-align: top;\n",
       "    }\n",
       "\n",
       "    .dataframe thead th {\n",
       "        text-align: right;\n",
       "    }\n",
       "</style>\n",
       "<table border=\"1\" class=\"dataframe\">\n",
       "  <thead>\n",
       "    <tr style=\"text-align: right;\">\n",
       "      <th></th>\n",
       "      <th>gender</th>\n",
       "      <th>race_ethnicity</th>\n",
       "      <th>parental_level_of_education</th>\n",
       "      <th>lunch</th>\n",
       "      <th>test_preparation_course</th>\n",
       "      <th>reading_score</th>\n",
       "      <th>writing_score</th>\n",
       "    </tr>\n",
       "  </thead>\n",
       "  <tbody>\n",
       "    <tr>\n",
       "      <th>0</th>\n",
       "      <td>male</td>\n",
       "      <td>group A</td>\n",
       "      <td>some high school</td>\n",
       "      <td>free/reduced</td>\n",
       "      <td>none</td>\n",
       "      <td>85</td>\n",
       "      <td>100</td>\n",
       "    </tr>\n",
       "  </tbody>\n",
       "</table>\n",
       "</div>"
      ],
      "text/plain": [
       "  gender race_ethnicity parental_level_of_education         lunch  \\\n",
       "0   male        group A            some high school  free/reduced   \n",
       "\n",
       "  test_preparation_course reading_score writing_score  \n",
       "0                    none            85           100  "
      ]
     },
     "execution_count": 8,
     "metadata": {},
     "output_type": "execute_result"
    }
   ],
   "source": [
    "pd.DataFrame(data=data,index=[0])"
   ]
  },
  {
   "cell_type": "code",
   "execution_count": 1,
   "id": "d1677d98",
   "metadata": {},
   "outputs": [],
   "source": [
    "from sklearn.linear_model import LinearRegression"
   ]
  },
  {
   "cell_type": "code",
   "execution_count": 2,
   "id": "172ce4b4",
   "metadata": {},
   "outputs": [],
   "source": [
    "lr = LinearRegression()"
   ]
  },
  {
   "cell_type": "code",
   "execution_count": 12,
   "id": "0337a3f4",
   "metadata": {},
   "outputs": [
    {
     "ename": "AttributeError",
     "evalue": "'NoneType' object has no attribute 'find_all'",
     "output_type": "error",
     "traceback": [
      "\u001b[1;31m---------------------------------------------------------------------------\u001b[0m",
      "\u001b[1;31mAttributeError\u001b[0m                            Traceback (most recent call last)",
      "Cell \u001b[1;32mIn[12], line 20\u001b[0m\n\u001b[0;32m     17\u001b[0m parameters_dict \u001b[38;5;241m=\u001b[39m {}\n\u001b[0;32m     19\u001b[0m \u001b[38;5;66;03m# Loop through each parameter entry in the section\u001b[39;00m\n\u001b[1;32m---> 20\u001b[0m \u001b[38;5;28;01mfor\u001b[39;00m parameter_entry \u001b[38;5;129;01min\u001b[39;00m parameters_section\u001b[38;5;241m.\u001b[39mfind_all(\u001b[38;5;124m'\u001b[39m\u001b[38;5;124mdl\u001b[39m\u001b[38;5;124m'\u001b[39m):\n\u001b[0;32m     21\u001b[0m     \u001b[38;5;66;03m# Extract parameter name\u001b[39;00m\n\u001b[0;32m     22\u001b[0m     parameter_name \u001b[38;5;241m=\u001b[39m parameter_entry\u001b[38;5;241m.\u001b[39mfind(\u001b[38;5;124m'\u001b[39m\u001b[38;5;124mdt\u001b[39m\u001b[38;5;124m'\u001b[39m)\u001b[38;5;241m.\u001b[39mtext\u001b[38;5;241m.\u001b[39mstrip()\n\u001b[0;32m     24\u001b[0m     \u001b[38;5;66;03m# Extract possible values for the parameter\u001b[39;00m\n",
      "\u001b[1;31mAttributeError\u001b[0m: 'NoneType' object has no attribute 'find_all'"
     ]
    }
   ],
   "source": [
    "import requests\n",
    "from bs4 import BeautifulSoup\n",
    "\n",
    "# URL of the RandomForestRegressor documentation page\n",
    "url = \"https://scikit-learn.org/stable/modules/generated/sklearn.ensemble.RandomForestRegressor.html\"\n",
    "\n",
    "# Send a GET request to the URL\n",
    "response = requests.get(url)\n",
    "\n",
    "# Parse the HTML content using BeautifulSoup\n",
    "soup = BeautifulSoup(response.content, 'html.parser')\n",
    "\n",
    "# Find the section with parameters\n",
    "parameters_section = soup.find('div', {'class': 'section'})\n",
    "\n",
    "# Initialize an empty dictionary to store parameters and their possible values\n",
    "parameters_dict = {}\n",
    "\n",
    "# Loop through each parameter entry in the section\n",
    "for parameter_entry in parameters_section.find_all('dl'):\n",
    "    # Extract parameter name\n",
    "    parameter_name = parameter_entry.find('dt').text.strip()\n",
    "\n",
    "    # Extract possible values for the parameter\n",
    "    possible_values = [value.text.strip() for value in parameter_entry.find_all('dd')]\n",
    "\n",
    "    # Store parameter and its possible values in the dictionary\n",
    "    parameters_dict[parameter_name] = possible_values\n",
    "\n",
    "# Print the extracted parameters and their possible values\n",
    "for parameter, values in parameters_dict.items():\n",
    "    print(f\"{parameter}: {values}\")\n",
    "\n"
   ]
  },
  {
   "cell_type": "code",
   "execution_count": null,
   "id": "09d5e165",
   "metadata": {},
   "outputs": [],
   "source": []
  }
 ],
 "metadata": {
  "kernelspec": {
   "display_name": "Python 3 (ipykernel)",
   "language": "python",
   "name": "python3"
  },
  "language_info": {
   "codemirror_mode": {
    "name": "ipython",
    "version": 3
   },
   "file_extension": ".py",
   "mimetype": "text/x-python",
   "name": "python",
   "nbconvert_exporter": "python",
   "pygments_lexer": "ipython3",
   "version": "3.11.5"
  }
 },
 "nbformat": 4,
 "nbformat_minor": 5
}
